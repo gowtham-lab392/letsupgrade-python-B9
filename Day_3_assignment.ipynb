{
  "nbformat": 4,
  "nbformat_minor": 0,
  "metadata": {
    "colab": {
      "name": "Day 3 assignment ",
      "provenance": [],
      "collapsed_sections": [],
      "include_colab_link": true
    },
    "kernelspec": {
      "display_name": "Python 3",
      "name": "python3"
    }
  },
  "cells": [
    {
      "cell_type": "markdown",
      "metadata": {
        "id": "view-in-github",
        "colab_type": "text"
      },
      "source": [
        "<a href=\"https://colab.research.google.com/github/gowtham-lab392/letsupgrade-python-B9/blob/main/Day_3_assignment.ipynb\" target=\"_parent\"><img src=\"https://colab.research.google.com/assets/colab-badge.svg\" alt=\"Open In Colab\"/></a>"
      ]
    },
    {
      "cell_type": "markdown",
      "metadata": {
        "id": "k45ni85UVr4m"
      },
      "source": [
        "If else and elif"
      ]
    },
    {
      "cell_type": "code",
      "metadata": {
        "id": "bVEv9TFVBYdF"
      },
      "source": [
        "marks = 90"
      ],
      "execution_count": null,
      "outputs": []
    },
    {
      "cell_type": "code",
      "metadata": {
        "colab": {
          "base_uri": "https://localhost:8080/"
        },
        "id": "ZkmfAhxvBC-2",
        "outputId": "1ea58bbe-96bf-4801-ffd7-8ecb3968a05c"
      },
      "source": [
        "if marks >=90:\n",
        "    print(\"Grade -> A\")\n",
        "elif marks >=60 and marks <90:\n",
        "    print(\"Grade -> B\")\n",
        "elif marks >=40 and marks <60:\n",
        "    print(\"Grade -> C\")\n",
        "else:\n",
        "    print(\"pass\")"
      ],
      "execution_count": null,
      "outputs": [
        {
          "output_type": "stream",
          "text": [
            "Grade -> A\n"
          ],
          "name": "stdout"
        }
      ]
    },
    {
      "cell_type": "markdown",
      "metadata": {
        "id": "khXSjja7FLxU"
      },
      "source": [
        " For loop"
      ]
    },
    {
      "cell_type": "code",
      "metadata": {
        "colab": {
          "base_uri": "https://localhost:8080/"
        },
        "id": "rJx73kbYFP50",
        "outputId": "85f99922-8ed2-4f41-9be4-b5c50f65067a"
      },
      "source": [
        "start = int (input(\"Enter the starting range:\"))\n",
        "end = int (input(\"Enter the end range:\"))\n",
        "print(\"prime numbers in the range\",start,\"to\",end)\n",
        "for i in range(start,end+1):\n",
        "    flag =0\n",
        "    for j in range(2, i):\n",
        "        if (i % j == 0):\n",
        "            flag = 1\n",
        "            break\n",
        " \n",
        "    if (flag == 0):\n",
        "        print (i,end = \" \")"
      ],
      "execution_count": null,
      "outputs": [
        {
          "output_type": "stream",
          "text": [
            "Enter the starting range:1\n",
            "Enter the end range:1000\n",
            "prime numbers in the range 1 to 1000\n",
            "1 2 3 5 7 11 13 17 19 23 29 31 37 41 43 47 53 59 61 67 71 73 79 83 89 97 101 103 107 109 113 127 131 137 139 149 151 157 163 167 173 179 181 191 193 197 199 211 223 227 229 233 239 241 251 257 263 269 271 277 281 283 293 307 311 313 317 331 337 347 349 353 359 367 373 379 383 389 397 401 409 419 421 431 433 439 443 449 457 461 463 467 479 487 491 499 503 509 521 523 541 547 557 563 569 571 577 587 593 599 601 607 613 617 619 631 641 643 647 653 659 661 673 677 683 691 701 709 719 727 733 739 743 751 757 761 769 773 787 797 809 811 821 823 827 829 839 853 857 859 863 877 881 883 887 907 911 919 929 937 941 947 953 967 971 977 983 991 997 "
          ],
          "name": "stdout"
        }
      ]
    },
    {
      "cell_type": "markdown",
      "metadata": {
        "id": "G3AWQUk1OUv6"
      },
      "source": [
        " Nested for loop"
      ]
    },
    {
      "cell_type": "code",
      "metadata": {
        "colab": {
          "base_uri": "https://localhost:8080/"
        },
        "id": "1dZbEN03PKyT",
        "outputId": "f72e6504-510c-4ceb-d26d-d851eaa95eba"
      },
      "source": [
        "for item in range (1,10):\n",
        "    for a in range (1,10):\n",
        "        print(a)\n",
        "    print(\" \")"
      ],
      "execution_count": null,
      "outputs": [
        {
          "output_type": "stream",
          "text": [
            "1\n",
            "2\n",
            "3\n",
            "4\n",
            "5\n",
            "6\n",
            "7\n",
            "8\n",
            "9\n",
            " \n",
            "1\n",
            "2\n",
            "3\n",
            "4\n",
            "5\n",
            "6\n",
            "7\n",
            "8\n",
            "9\n",
            " \n",
            "1\n",
            "2\n",
            "3\n",
            "4\n",
            "5\n",
            "6\n",
            "7\n",
            "8\n",
            "9\n",
            " \n",
            "1\n",
            "2\n",
            "3\n",
            "4\n",
            "5\n",
            "6\n",
            "7\n",
            "8\n",
            "9\n",
            " \n",
            "1\n",
            "2\n",
            "3\n",
            "4\n",
            "5\n",
            "6\n",
            "7\n",
            "8\n",
            "9\n",
            " \n",
            "1\n",
            "2\n",
            "3\n",
            "4\n",
            "5\n",
            "6\n",
            "7\n",
            "8\n",
            "9\n",
            " \n",
            "1\n",
            "2\n",
            "3\n",
            "4\n",
            "5\n",
            "6\n",
            "7\n",
            "8\n",
            "9\n",
            " \n",
            "1\n",
            "2\n",
            "3\n",
            "4\n",
            "5\n",
            "6\n",
            "7\n",
            "8\n",
            "9\n",
            " \n",
            "1\n",
            "2\n",
            "3\n",
            "4\n",
            "5\n",
            "6\n",
            "7\n",
            "8\n",
            "9\n",
            " \n"
          ],
          "name": "stdout"
        }
      ]
    },
    {
      "cell_type": "markdown",
      "metadata": {
        "id": "8QxOuwLWQGzq"
      },
      "source": [
        " While loop"
      ]
    },
    {
      "cell_type": "code",
      "metadata": {
        "colab": {
          "base_uri": "https://localhost:8080/"
        },
        "id": "-I84L3UhQM24",
        "outputId": "9fa4fde6-7c00-4233-eb5d-826e075d01e5"
      },
      "source": [
        "a = 1\n",
        "while a < 100:\n",
        "    print(a)\n",
        "    a = a + 2"
      ],
      "execution_count": null,
      "outputs": [
        {
          "output_type": "stream",
          "text": [
            "1\n",
            "3\n",
            "5\n",
            "7\n",
            "9\n",
            "11\n",
            "13\n",
            "15\n",
            "17\n",
            "19\n",
            "21\n",
            "23\n",
            "25\n",
            "27\n",
            "29\n",
            "31\n",
            "33\n",
            "35\n",
            "37\n",
            "39\n",
            "41\n",
            "43\n",
            "45\n",
            "47\n",
            "49\n",
            "51\n",
            "53\n",
            "55\n",
            "57\n",
            "59\n",
            "61\n",
            "63\n",
            "65\n",
            "67\n",
            "69\n",
            "71\n",
            "73\n",
            "75\n",
            "77\n",
            "79\n",
            "81\n",
            "83\n",
            "85\n",
            "87\n",
            "89\n",
            "91\n",
            "93\n",
            "95\n",
            "97\n",
            "99\n"
          ],
          "name": "stdout"
        }
      ]
    },
    {
      "cell_type": "code",
      "metadata": {
        "colab": {
          "base_uri": "https://localhost:8080/"
        },
        "id": "aCPkAo_wTezL",
        "outputId": "a38375ff-ca59-4f14-b623-09963f550ed3"
      },
      "source": [
        "start = int (input(\"Enter the range:\"))\n",
        "print(\"prime numbers in the range\")\n",
        "for i in range(start):\n",
        "    flag =0\n",
        "    for j in range(2, i):\n",
        "        if (i % j == 0):\n",
        "            flag = 1\n",
        "            break\n",
        " \n",
        "    if (flag == 0):\n",
        "        print (i,end = \" \")"
      ],
      "execution_count": null,
      "outputs": [
        {
          "output_type": "stream",
          "text": [
            "Enter the range:40\n",
            "prime numbers in the range\n",
            "0 1 2 3 5 7 11 13 17 19 23 29 31 37 "
          ],
          "name": "stdout"
        }
      ]
    }
  ]
}