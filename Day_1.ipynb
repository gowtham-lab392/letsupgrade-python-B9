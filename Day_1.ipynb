{
  "nbformat": 4,
  "nbformat_minor": 0,
  "metadata": {
    "colab": {
      "name": "Day 1",
      "provenance": [],
      "authorship_tag": "ABX9TyNHdp8ZAEUX6++6BkhAqjRM",
      "include_colab_link": true
    },
    "kernelspec": {
      "name": "python3",
      "display_name": "Python 3"
    }
  },
  "cells": [
    {
      "cell_type": "markdown",
      "metadata": {
        "id": "view-in-github",
        "colab_type": "text"
      },
      "source": [
        "<a href=\"https://colab.research.google.com/github/gowtham-lab392/letsupgrade-python-B9/blob/main/Day_1.ipynb\" target=\"_parent\"><img src=\"https://colab.research.google.com/assets/colab-badge.svg\" alt=\"Open In Colab\"/></a>"
      ]
    },
    {
      "cell_type": "markdown",
      "metadata": {
        "id": "BEMGD-_uVHgd"
      },
      "source": [
        "1. String functions"
      ]
    },
    {
      "cell_type": "code",
      "metadata": {
        "colab": {
          "base_uri": "https://localhost:8080/"
        },
        "id": "hwkO3TiMJ6_C",
        "outputId": "76ea2a44-f387-45ac-a957-9814c0ae9f36"
      },
      "source": [
        "G=\"super suri\"\n",
        "G.index(\"e\")"
      ],
      "execution_count": 67,
      "outputs": [
        {
          "output_type": "execute_result",
          "data": {
            "text/plain": [
              "3"
            ]
          },
          "metadata": {
            "tags": []
          },
          "execution_count": 67
        }
      ]
    },
    {
      "cell_type": "code",
      "metadata": {
        "id": "4nuKlt0YSUCS",
        "outputId": "1f2beca9-236e-4a1c-cca9-b449fbbc3c81",
        "colab": {
          "base_uri": "https://localhost:8080/",
          "height": 35
        }
      },
      "source": [
        "G.upper()"
      ],
      "execution_count": 15,
      "outputs": [
        {
          "output_type": "execute_result",
          "data": {
            "application/vnd.google.colaboratory.intrinsic+json": {
              "type": "string"
            },
            "text/plain": [
              "'SUPER SURI'"
            ]
          },
          "metadata": {
            "tags": []
          },
          "execution_count": 15
        }
      ]
    },
    {
      "cell_type": "code",
      "metadata": {
        "id": "9F8E0YR8VcC8",
        "outputId": "59f6d068-96a6-43d8-97d6-e9bba55c0c5c",
        "colab": {
          "base_uri": "https://localhost:8080/"
        }
      },
      "source": [
        "G.split()"
      ],
      "execution_count": 23,
      "outputs": [
        {
          "output_type": "execute_result",
          "data": {
            "text/plain": [
              "['super', 'suri']"
            ]
          },
          "metadata": {
            "tags": []
          },
          "execution_count": 23
        }
      ]
    },
    {
      "cell_type": "code",
      "metadata": {
        "id": "vMSUTDrPWVhP",
        "outputId": "8beff8b6-ff83-42a5-c4bb-75fa04b86645",
        "colab": {
          "base_uri": "https://localhost:8080/",
          "height": 35
        }
      },
      "source": [
        "G[4]"
      ],
      "execution_count": 24,
      "outputs": [
        {
          "output_type": "execute_result",
          "data": {
            "application/vnd.google.colaboratory.intrinsic+json": {
              "type": "string"
            },
            "text/plain": [
              "'r'"
            ]
          },
          "metadata": {
            "tags": []
          },
          "execution_count": 24
        }
      ]
    },
    {
      "cell_type": "code",
      "metadata": {
        "id": "3Smulh92Wqsk",
        "outputId": "7baff850-d161-46b6-e3b1-2edf837b3d3d",
        "colab": {
          "base_uri": "https://localhost:8080/"
        }
      },
      "source": [
        "G.find(\"e\")"
      ],
      "execution_count": 29,
      "outputs": [
        {
          "output_type": "execute_result",
          "data": {
            "text/plain": [
              "3"
            ]
          },
          "metadata": {
            "tags": []
          },
          "execution_count": 29
        }
      ]
    },
    {
      "cell_type": "code",
      "metadata": {
        "id": "vNxwPxhhXTlX",
        "outputId": "8b631169-bb2a-447f-9160-b6a2ace8d1de",
        "colab": {
          "base_uri": "https://localhost:8080/"
        }
      },
      "source": [
        "G.islower()"
      ],
      "execution_count": 70,
      "outputs": [
        {
          "output_type": "execute_result",
          "data": {
            "text/plain": [
              "True"
            ]
          },
          "metadata": {
            "tags": []
          },
          "execution_count": 70
        }
      ]
    },
    {
      "cell_type": "markdown",
      "metadata": {
        "id": "z37ItdJibdK_"
      },
      "source": [
        "2.Functions of list object"
      ]
    },
    {
      "cell_type": "code",
      "metadata": {
        "id": "P9TiGmUCbkHu",
        "outputId": "7fd4c4f1-7d96-407a-c608-b6e3c541e9ca",
        "colab": {
          "base_uri": "https://localhost:8080/"
        }
      },
      "source": [
        "lst=[12345,\"gowtham\",\"abcd\",1.0]\n",
        "lst"
      ],
      "execution_count": 92,
      "outputs": [
        {
          "output_type": "execute_result",
          "data": {
            "text/plain": [
              "[12345, 'gowtham', 'abcd', 1.0]"
            ]
          },
          "metadata": {
            "tags": []
          },
          "execution_count": 92
        }
      ]
    },
    {
      "cell_type": "code",
      "metadata": {
        "id": "9K8FUTNZeUL3",
        "outputId": "d5bcc025-86cb-4adf-aa1d-285b6665d4bb",
        "colab": {
          "base_uri": "https://localhost:8080/"
        }
      },
      "source": [
        "lst.append('raj')\n",
        "lst"
      ],
      "execution_count": 82,
      "outputs": [
        {
          "output_type": "execute_result",
          "data": {
            "text/plain": [
              "[1, 2, 3, 4, 5, 'gowtham', 'abcd', 1.0, 2.5, 3.5, 5, 5, 'raj']"
            ]
          },
          "metadata": {
            "tags": []
          },
          "execution_count": 82
        }
      ]
    },
    {
      "cell_type": "code",
      "metadata": {
        "id": "3HVKo3lVfdFw",
        "outputId": "89ff653b-dd24-40de-8251-20dc5fbf091d",
        "colab": {
          "base_uri": "https://localhost:8080/"
        }
      },
      "source": [
        "lst.pop(0)\n",
        "lst"
      ],
      "execution_count": 94,
      "outputs": [
        {
          "output_type": "execute_result",
          "data": {
            "text/plain": [
              "['gowtham', 'abcd']"
            ]
          },
          "metadata": {
            "tags": []
          },
          "execution_count": 94
        }
      ]
    },
    {
      "cell_type": "code",
      "metadata": {
        "id": "DHgTECifg9UZ",
        "outputId": "7b393a42-478a-4732-9e58-4db99df397b5",
        "colab": {
          "base_uri": "https://localhost:8080/",
          "height": 35
        }
      },
      "source": [
        "lst[-1]"
      ],
      "execution_count": 95,
      "outputs": [
        {
          "output_type": "execute_result",
          "data": {
            "application/vnd.google.colaboratory.intrinsic+json": {
              "type": "string"
            },
            "text/plain": [
              "'abcd'"
            ]
          },
          "metadata": {
            "tags": []
          },
          "execution_count": 95
        }
      ]
    },
    {
      "cell_type": "code",
      "metadata": {
        "id": "Dh1WG_Muhnjg",
        "outputId": "bfa5882a-dfb6-441b-f1fd-bbf5b2210d25",
        "colab": {
          "base_uri": "https://localhost:8080/"
        }
      },
      "source": [
        "lst.insert(0,\"hero\")\n",
        "lst"
      ],
      "execution_count": 98,
      "outputs": [
        {
          "output_type": "execute_result",
          "data": {
            "text/plain": [
              "['hero', 'gowtham', 'abcd']"
            ]
          },
          "metadata": {
            "tags": []
          },
          "execution_count": 98
        }
      ]
    },
    {
      "cell_type": "markdown",
      "metadata": {
        "id": "cGXfcZ-LibP_"
      },
      "source": [
        "Dictionary"
      ]
    },
    {
      "cell_type": "code",
      "metadata": {
        "id": "_qgYtjDfihDO",
        "outputId": "0df8d339-9da4-4949-a3fb-d5e7923309de",
        "colab": {
          "base_uri": "https://localhost:8080/"
        }
      },
      "source": [
        "dit={\"key\":\"gowtham\",\"key1\":1,\"key2\":5,\"key3\":8}\n",
        "dit"
      ],
      "execution_count": 111,
      "outputs": [
        {
          "output_type": "execute_result",
          "data": {
            "text/plain": [
              "{'key': 'gowtham', 'key1': 1, 'key2': 5, 'key3': 8}"
            ]
          },
          "metadata": {
            "tags": []
          },
          "execution_count": 111
        }
      ]
    },
    {
      "cell_type": "code",
      "metadata": {
        "id": "ym_I2L3qjCwY",
        "outputId": "ff79f633-0e27-4ead-c76b-faa6152ae8a1",
        "colab": {
          "base_uri": "https://localhost:8080/"
        }
      },
      "source": [
        "dit[\"key3\"]"
      ],
      "execution_count": 113,
      "outputs": [
        {
          "output_type": "execute_result",
          "data": {
            "text/plain": [
              "8"
            ]
          },
          "metadata": {
            "tags": []
          },
          "execution_count": 113
        }
      ]
    },
    {
      "cell_type": "code",
      "metadata": {
        "id": "zw3XvZ-0mMMf",
        "outputId": "d0275765-53f1-42fc-9be1-5d17adad270b",
        "colab": {
          "base_uri": "https://localhost:8080/"
        }
      },
      "source": [
        "ditperson={\"Name\":\"gowtham\", \"Age\":18,\"std\":\"bsc.cs\"}\n",
        "ditperson"
      ],
      "execution_count": 119,
      "outputs": [
        {
          "output_type": "execute_result",
          "data": {
            "text/plain": [
              "{'Age': 18, 'Name': 'gowtham', 'std': 'bsc.cs'}"
            ]
          },
          "metadata": {
            "tags": []
          },
          "execution_count": 119
        }
      ]
    },
    {
      "cell_type": "code",
      "metadata": {
        "id": "P2uLW2Wnn3z7",
        "outputId": "966319ab-ba82-4f95-e0fe-daab6574e950",
        "colab": {
          "base_uri": "https://localhost:8080/"
        }
      },
      "source": [
        "ditperson.get(\"Age\")"
      ],
      "execution_count": 120,
      "outputs": [
        {
          "output_type": "execute_result",
          "data": {
            "text/plain": [
              "18"
            ]
          },
          "metadata": {
            "tags": []
          },
          "execution_count": 120
        }
      ]
    },
    {
      "cell_type": "code",
      "metadata": {
        "id": "GYxZm1XWouyZ",
        "outputId": "c82aef99-361e-4c9e-a933-484a02e93314",
        "colab": {
          "base_uri": "https://localhost:8080/"
        }
      },
      "source": [
        "ditperson.clear()\n",
        "ditperson"
      ],
      "execution_count": 134,
      "outputs": [
        {
          "output_type": "execute_result",
          "data": {
            "text/plain": [
              "{}"
            ]
          },
          "metadata": {
            "tags": []
          },
          "execution_count": 134
        }
      ]
    },
    {
      "cell_type": "code",
      "metadata": {
        "id": "0E6tgNyoqaTE",
        "outputId": "394f91f4-0fbd-4ffb-b4bf-2194c88fcdcb",
        "colab": {
          "base_uri": "https://localhost:8080/"
        }
      },
      "source": [
        "dit.copy()\n",
        "dit"
      ],
      "execution_count": 138,
      "outputs": [
        {
          "output_type": "execute_result",
          "data": {
            "text/plain": [
              "{'key': 'gowtham', 'key1': 1, 'key2': 5, 'key3': 8}"
            ]
          },
          "metadata": {
            "tags": []
          },
          "execution_count": 138
        }
      ]
    },
    {
      "cell_type": "code",
      "metadata": {
        "id": "uXo0idLPq9-q",
        "outputId": "c73bcfd5-1421-41d0-b406-edceea22fbb7",
        "colab": {
          "base_uri": "https://localhost:8080/"
        }
      },
      "source": [
        "dit.pop(\"key\")\n",
        "dit"
      ],
      "execution_count": 142,
      "outputs": [
        {
          "output_type": "execute_result",
          "data": {
            "text/plain": [
              "{'key1': 1, 'key2': 5, 'key3': 8}"
            ]
          },
          "metadata": {
            "tags": []
          },
          "execution_count": 142
        }
      ]
    }
  ]
}